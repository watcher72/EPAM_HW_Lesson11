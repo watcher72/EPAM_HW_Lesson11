{
 "cells": [
  {
   "cell_type": "code",
   "execution_count": 2,
   "metadata": {},
   "outputs": [
    {
     "name": "stdout",
     "output_type": "stream",
     "text": [
      "============================= test session starts =============================\n",
      "platform win32 -- Python 3.7.4, pytest-5.2.1, py-1.8.0, pluggy-0.13.0\n",
      "rootdir: F:\\!EPAM\\HW_Lesson11\n",
      "plugins: arraydiff-0.3, doctestplus-0.4.0, openfiles-0.4.0, remotedata-0.3.2\n",
      "collected 3 items\n",
      "\n",
      "test_flat_list_pytest.py .F.                                             [100%]\n",
      "\n",
      "================================== FAILURES ===================================\n",
      "______________________________ test_nested_list _______________________________\n",
      "\n",
      "    def test_nested_list():\n",
      "        actual = flat_list([[1, 2, [3, 4], 5, [[6, [7]], 8], 9]])\n",
      "        expected = [1, 2, 3, 4, 5, 6, 7, 8]\n",
      ">       assert actual == expected\n",
      "E       assert [1, 2, 3, 4, 5, 6, ...] == [1, 2, 3, 4, 5, 6, ...]\n",
      "E         Left contains one more item: 9\n",
      "E         Use -v to get the full diff\n",
      "\n",
      "test_flat_list_pytest.py:16: AssertionError\n",
      "========================= 1 failed, 2 passed in 0.14s =========================\n"
     ]
    }
   ],
   "source": [
    "!python -m pytest test_flat_list_pytest.py"
   ]
  },
  {
   "cell_type": "code",
   "execution_count": 4,
   "metadata": {},
   "outputs": [
    {
     "name": "stdout",
     "output_type": "stream",
     "text": [
      "Collecting pytest-cov\n",
      "  Downloading https://files.pythonhosted.org/packages/3d/13/ae3dec587b1cc07fb9f294e52ea9ad140266aea55adb9e12eade3625bd27/pytest_cov-2.10.0-py2.py3-none-any.whl\n",
      "Collecting coverage>=4.4 (from pytest-cov)\n",
      "  Downloading https://files.pythonhosted.org/packages/f3/cf/6ab0887ad2633d8a4688f5fb56d4901822ef6d810a8524b69ca693f2b41e/coverage-5.1-cp37-cp37m-win_amd64.whl (205kB)\n",
      "Requirement already satisfied: pytest>=4.6 in c:\\users\\123456\\anaconda3\\lib\\site-packages (from pytest-cov) (5.2.1)\n",
      "Requirement already satisfied: py>=1.5.0 in c:\\users\\123456\\anaconda3\\lib\\site-packages (from pytest>=4.6->pytest-cov) (1.8.0)\n",
      "Requirement already satisfied: packaging in c:\\users\\123456\\anaconda3\\lib\\site-packages (from pytest>=4.6->pytest-cov) (19.2)\n",
      "Requirement already satisfied: attrs>=17.4.0 in c:\\users\\123456\\anaconda3\\lib\\site-packages (from pytest>=4.6->pytest-cov) (19.2.0)\n",
      "Requirement already satisfied: more-itertools>=4.0.0 in c:\\users\\123456\\anaconda3\\lib\\site-packages (from pytest>=4.6->pytest-cov) (7.2.0)\n",
      "Requirement already satisfied: atomicwrites>=1.0 in c:\\users\\123456\\anaconda3\\lib\\site-packages (from pytest>=4.6->pytest-cov) (1.3.0)\n",
      "Requirement already satisfied: pluggy<1.0,>=0.12 in c:\\users\\123456\\anaconda3\\lib\\site-packages (from pytest>=4.6->pytest-cov) (0.13.0)\n",
      "Requirement already satisfied: wcwidth in c:\\users\\123456\\anaconda3\\lib\\site-packages (from pytest>=4.6->pytest-cov) (0.1.7)\n",
      "Requirement already satisfied: importlib-metadata>=0.12 in c:\\users\\123456\\anaconda3\\lib\\site-packages (from pytest>=4.6->pytest-cov) (0.23)\n",
      "Requirement already satisfied: colorama in c:\\users\\123456\\anaconda3\\lib\\site-packages (from pytest>=4.6->pytest-cov) (0.4.1)\n",
      "Requirement already satisfied: pyparsing>=2.0.2 in c:\\users\\123456\\anaconda3\\lib\\site-packages (from packaging->pytest>=4.6->pytest-cov) (2.4.2)\n",
      "Requirement already satisfied: six in c:\\users\\123456\\anaconda3\\lib\\site-packages (from packaging->pytest>=4.6->pytest-cov) (1.12.0)\n",
      "Requirement already satisfied: zipp>=0.5 in c:\\users\\123456\\anaconda3\\lib\\site-packages (from importlib-metadata>=0.12->pytest>=4.6->pytest-cov) (0.6.0)\n",
      "Installing collected packages: coverage, pytest-cov\n",
      "Successfully installed coverage-5.1 pytest-cov-2.10.0\n"
     ]
    }
   ],
   "source": [
    "!pip install pytest-cov"
   ]
  },
  {
   "cell_type": "code",
   "execution_count": 6,
   "metadata": {
    "scrolled": true
   },
   "outputs": [
    {
     "name": "stdout",
     "output_type": "stream",
     "text": [
      "============================= test session starts =============================\n",
      "platform win32 -- Python 3.7.4, pytest-5.2.1, py-1.8.0, pluggy-0.13.0\n",
      "rootdir: F:\\!EPAM\\HW_Lesson11\n",
      "plugins: arraydiff-0.3, cov-2.10.0, doctestplus-0.4.0, openfiles-0.4.0, remotedata-0.3.2\n",
      "collected 3 items\n",
      "\n",
      "test_flat_list_pytest.py .F.                                             [100%]\n",
      "\n",
      "================================== FAILURES ===================================\n",
      "______________________________ test_nested_list _______________________________\n",
      "\n",
      "    def test_nested_list():\n",
      "        actual = flat_list([[1, 2, [3, 4], 5, [[6, [7]], 8], 9]])\n",
      "        expected = [1, 2, 3, 4, 5, 6, 7, 8]\n",
      ">       assert actual == expected\n",
      "E       assert [1, 2, 3, 4, 5, 6, ...] == [1, 2, 3, 4, 5, 6, ...]\n",
      "E         Left contains one more item: 9\n",
      "E         Use -v to get the full diff\n",
      "\n",
      "test_flat_list_pytest.py:16: AssertionError\n",
      "========================= 1 failed, 2 passed in 0.14s =========================\n"
     ]
    }
   ],
   "source": [
    "!coverage run -m pytest test_flat_list_pytest.py"
   ]
  },
  {
   "cell_type": "code",
   "execution_count": 7,
   "metadata": {},
   "outputs": [
    {
     "name": "stdout",
     "output_type": "stream",
     "text": [
      "Name                       Stmts   Miss  Cover\n",
      "----------------------------------------------\n",
      "flat_list.py                   7      0   100%\n",
      "test_flat_list_pytest.py      15      0   100%\n",
      "----------------------------------------------\n",
      "TOTAL                         22      0   100%\n"
     ]
    }
   ],
   "source": [
    "!coverage report"
   ]
  },
  {
   "cell_type": "code",
   "execution_count": 10,
   "metadata": {},
   "outputs": [
    {
     "name": "stdout",
     "output_type": "stream",
     "text": [
      "============================= test session starts =============================\n",
      "platform win32 -- Python 3.7.4, pytest-5.2.1, py-1.8.0, pluggy-0.13.0\n",
      "rootdir: F:\\!EPAM\\HW_Lesson11\n",
      "plugins: arraydiff-0.3, cov-2.10.0, doctestplus-0.4.0, openfiles-0.4.0, remotedata-0.3.2\n",
      "collected 3 items\n",
      "\n",
      "test_flat_list_pytest.py .F.                                             [100%]\n",
      "\n",
      "================================== FAILURES ===================================\n",
      "______________________________ test_nested_list _______________________________\n",
      "\n",
      "    def test_nested_list():\n",
      "        actual = flat_list([[1, 2, [3, 4], 5, [[6, [7]], 8], 9]])\n",
      "        expected = [1, 2, 3, 4, 5, 6, 7, 8]\n",
      ">       assert actual == expected\n",
      "E       assert [1, 2, 3, 4, 5, 6, ...] == [1, 2, 3, 4, 5, 6, ...]\n",
      "E         Left contains one more item: 9\n",
      "E         Use -v to get the full diff\n",
      "\n",
      "test_flat_list_pytest.py:16: AssertionError\n",
      "========================= 1 failed, 2 passed in 0.11s =========================\n"
     ]
    }
   ],
   "source": [
    "!pytest test_flat_list_pytest.py --cov-report=html"
   ]
  }
 ],
 "metadata": {
  "kernelspec": {
   "display_name": "Python 3",
   "language": "python",
   "name": "python3"
  },
  "language_info": {
   "codemirror_mode": {
    "name": "ipython",
    "version": 3
   },
   "file_extension": ".py",
   "mimetype": "text/x-python",
   "name": "python",
   "nbconvert_exporter": "python",
   "pygments_lexer": "ipython3",
   "version": "3.7.4"
  }
 },
 "nbformat": 4,
 "nbformat_minor": 2
}
