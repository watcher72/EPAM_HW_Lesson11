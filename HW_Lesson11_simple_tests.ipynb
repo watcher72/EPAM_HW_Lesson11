{
 "cells": [
  {
   "cell_type": "code",
   "execution_count": 7,
   "metadata": {},
   "outputs": [
    {
     "name": "stdout",
     "output_type": "stream",
     "text": [
      "Trying:\n",
      "    flat_list(1, 2, 3)\n",
      "Expecting:\n",
      "    Traceback (most recent call last):\n",
      "      ...\n",
      "    TypeError: flat_list() takes 1 positional argument but 3 were given\n",
      "ok\n",
      "Trying:\n",
      "    flat_list([])\n",
      "Expecting:\n",
      "    []\n",
      "ok\n",
      "Trying:\n",
      "    flat_list([1, 2, [3, 4], 5, [[6, [7]], 8], 9])\n",
      "Expecting:\n",
      "    [1, 2, 3, 4, 5, 6, 7, 8, 9]\n",
      "ok\n",
      "2 items passed all tests:\n",
      "   1 tests in __main__\n",
      "   2 tests in __main__.flat_list\n",
      "3 tests in 2 items.\n",
      "3 passed and 0 failed.\n",
      "Test passed.\n"
     ]
    }
   ],
   "source": [
    "!python test_flat_list_doctest.py"
   ]
  },
  {
   "cell_type": "code",
   "execution_count": 11,
   "metadata": {},
   "outputs": [
    {
     "name": "stdout",
     "output_type": "stream",
     "text": [
      "All test passed!\n"
     ]
    }
   ],
   "source": [
    "!python test_flat_list_asserts.py"
   ]
  },
  {
   "cell_type": "code",
   "execution_count": null,
   "metadata": {},
   "outputs": [],
   "source": []
  }
 ],
 "metadata": {
  "kernelspec": {
   "display_name": "Python 3",
   "language": "python",
   "name": "python3"
  },
  "language_info": {
   "codemirror_mode": {
    "name": "ipython",
    "version": 3
   },
   "file_extension": ".py",
   "mimetype": "text/x-python",
   "name": "python",
   "nbconvert_exporter": "python",
   "pygments_lexer": "ipython3",
   "version": "3.7.4"
  }
 },
 "nbformat": 4,
 "nbformat_minor": 2
}
