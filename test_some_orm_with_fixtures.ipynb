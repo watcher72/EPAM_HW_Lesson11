{
 "cells": [
  {
   "cell_type": "code",
   "execution_count": 1,
   "metadata": {},
   "outputs": [],
   "source": [
    "# %load some_orm.py\n",
    "import json\n",
    "\n",
    "from typing import List, Dict, Any, Iterator\n",
    "# from pprint import pprint as pp\n",
    "\n",
    "\n",
    "def select(*field_names: str) -> callable:\n",
    "    \"\"\"\n",
    "    Create a function for selecting the fields of data in 'query'.\n",
    "\n",
    "    :param field_names: The list of fields for selection\n",
    "    :return: The function for selecting the fields\n",
    "    \"\"\"\n",
    "    def inner(data: List[Dict[str, Any]]) -> Iterator:\n",
    "        return map(\n",
    "            lambda row: {key: row[key] for key in row if key in field_names},\n",
    "            data)\n",
    "\n",
    "    return inner\n",
    "\n",
    "\n",
    "def field_filter(field_name: str, *values: str) -> callable:\n",
    "    \"\"\"\n",
    "    Create a function for filtering the data in 'query'.\n",
    "\n",
    "    :param field_name: The name of field for filtering\n",
    "    :param values: The list of values for this field\n",
    "    :return: The function\n",
    "    \"\"\"\n",
    "    def inner(data: List[Dict[str, Any]]) -> Iterator:\n",
    "        return filter(lambda row: row[field_name] in values, data)\n",
    "\n",
    "    return inner\n",
    "\n",
    "\n",
    "def query(filepath: str,\n",
    "          selection: callable,\n",
    "          *filters: callable\n",
    "          ) -> List[Dict[str, Any]]:\n",
    "    \"\"\"\n",
    "    Select fields in each row of the 'data', leave only the the fields\n",
    "    which return 'selection' and filtered them via calls of 'filters'.\n",
    "\n",
    "    :param filepath: The path to the json-file\n",
    "    :param selection: The function, which select the fields of interest\n",
    "    :param filters: The functions for filtering the fields\n",
    "    :return: The list of filtered records from 'data', including only fields of interest\n",
    "    \"\"\"\n",
    "\n",
    "    with open(filepath, 'r') as f:\n",
    "        data = json.load(f)\n",
    "\n",
    "    for function in [selection, *filters]:\n",
    "        data = function(data)\n",
    "\n",
    "    return list(data)\n"
   ]
  },
  {
   "cell_type": "code",
   "execution_count": null,
   "metadata": {},
   "outputs": [],
   "source": [
    "# %load test_some_orm_with_fixtures.py\n",
    "import json\n",
    "import os\n",
    "import pytest\n",
    "\n",
    "from some_orm import query, select, field_filter\n",
    "\n",
    "\n",
    "@pytest.fixture(scope='module')\n",
    "def prepare_data():\n",
    "    friends = [\n",
    "        {'name': 'Сэм', 'gender': 'Мужской', 'sport': 'Баскетбол', 'age': 28},\n",
    "        {'name': 'Эмили', 'gender': 'Женский', 'sport': 'Волейбол', 'age': 22},\n",
    "        {'name': 'Роберт', 'gender': 'Мужской', 'sport': 'Баскетбол', 'age': 25},\n",
    "        {'name': 'Амалия', 'gender': 'Женский', 'sport': 'Теннис', 'age': 31},\n",
    "        {'name': 'Роберт', 'gender': 'Мужской', 'sport': 'Хоккей', 'age': 20},\n",
    "        {'name': 'Алекс', 'gender': 'Мужской', 'sport': 'Волейбол', 'age': 35},\n",
    "        {'name': 'Крис', 'gender': 'Мужской', 'sport': 'Теннис', 'age': 27}\n",
    "    ]\n",
    "    with open('data.json', 'w') as f:\n",
    "        json.dump(friends, f)\n",
    "\n",
    "    yield 'data.json'\n",
    "\n",
    "    os.remove('data.json')\n",
    "\n",
    "\n",
    "def test_some_orm_positive(prepare_data):\n",
    "    actual = query(\n",
    "        prepare_data,\n",
    "        select('name', 'gender', 'sport'),\n",
    "        field_filter('sport', 'Баскетбол', 'Волейбол'),\n",
    "        field_filter('gender', 'Мужской'),\n",
    "    )\n",
    "    expected = [\n",
    "        {'gender': 'Мужской', 'name': 'Сэм', 'sport': 'Баскетбол'},\n",
    "        {'gender': 'Мужской', 'name': 'Роберт', 'sport': 'Баскетбол'},\n",
    "        {'gender': 'Мужской', 'name': 'Алекс', 'sport': 'Волейбол'}\n",
    "    ]\n",
    "    assert actual == expected\n",
    "\n",
    "\n",
    "def test_nothing_found_positive(prepare_data):\n",
    "    actual = query(\n",
    "        prepare_data,\n",
    "        select('name', 'gender', 'sport'),\n",
    "        field_filter('sport', 'Хоккей'),\n",
    "        field_filter('gender', 'Женский'),\n",
    "    )\n",
    "    assert actual == []\n",
    "\n",
    "\n",
    "def test_unknown_field(prepare_data):\n",
    "    with pytest.raises(Exception) as e_info:\n",
    "        query(\n",
    "            prepare_data,\n",
    "            select('name', 'surname', 'sport'),\n",
    "            field_filter('sport', 'Хоккей'),\n",
    "            field_filter('gender', 'Женский'),\n",
    "        )\n",
    "    assert 'KeyError' in str(e_info)\n"
   ]
  },
  {
   "cell_type": "code",
   "execution_count": 8,
   "metadata": {},
   "outputs": [
    {
     "name": "stdout",
     "output_type": "stream",
     "text": [
      "============================= test session starts =============================\n",
      "platform win32 -- Python 3.7.4, pytest-5.2.1, py-1.8.0, pluggy-0.13.0\n",
      "rootdir: F:\\!EPAM\\HW_Lesson11\n",
      "plugins: arraydiff-0.3, cov-2.10.0, doctestplus-0.4.0, openfiles-0.4.0, remotedata-0.3.2\n",
      "collected 3 items\n",
      "\n",
      "test_some_orm_with_fixtures.py ...                                       [100%]\n",
      "\n",
      "============================== 3 passed in 0.08s ==============================\n"
     ]
    }
   ],
   "source": [
    "!pytest test_some_orm_with_fixtures.py"
   ]
  },
  {
   "cell_type": "code",
   "execution_count": 9,
   "metadata": {},
   "outputs": [
    {
     "name": "stdout",
     "output_type": "stream",
     "text": [
      "============================= test session starts =============================\n",
      "platform win32 -- Python 3.7.4, pytest-5.2.1, py-1.8.0, pluggy-0.13.0\n",
      "rootdir: F:\\!EPAM\\HW_Lesson11\n",
      "plugins: arraydiff-0.3, cov-2.10.0, doctestplus-0.4.0, openfiles-0.4.0, remotedata-0.3.2\n",
      "collected 3 items\n",
      "\n",
      "test_some_orm_with_fixtures.py ...                                       [100%]\n",
      "\n",
      "============================== 3 passed in 0.09s ==============================\n"
     ]
    }
   ],
   "source": [
    "!coverage run -m pytest test_some_orm_with_fixtures.py"
   ]
  },
  {
   "cell_type": "code",
   "execution_count": 10,
   "metadata": {},
   "outputs": [
    {
     "name": "stdout",
     "output_type": "stream",
     "text": [
      "Name                             Stmts   Miss  Cover\n",
      "----------------------------------------------------\n",
      "some_orm.py                         16      0   100%\n",
      "test_some_orm_with_fixtures.py      21      0   100%\n",
      "----------------------------------------------------\n",
      "TOTAL                               37      0   100%\n"
     ]
    }
   ],
   "source": [
    "!coverage report"
   ]
  }
 ],
 "metadata": {
  "kernelspec": {
   "display_name": "Python 3",
   "language": "python",
   "name": "python3"
  },
  "language_info": {
   "codemirror_mode": {
    "name": "ipython",
    "version": 3
   },
   "file_extension": ".py",
   "mimetype": "text/x-python",
   "name": "python",
   "nbconvert_exporter": "python",
   "pygments_lexer": "ipython3",
   "version": "3.7.4"
  }
 },
 "nbformat": 4,
 "nbformat_minor": 2
}
