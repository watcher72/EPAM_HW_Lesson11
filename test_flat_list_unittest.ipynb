{
 "cells": [
  {
   "cell_type": "code",
   "execution_count": 1,
   "metadata": {},
   "outputs": [],
   "source": [
    "import unittest\n",
    "\n",
    "from flat_list import flat_list"
   ]
  },
  {
   "cell_type": "code",
   "execution_count": 7,
   "metadata": {},
   "outputs": [],
   "source": [
    "class TestFlatList(unittest.TestCase):\n",
    "\n",
    "    def test_empty_list(self):\n",
    "        actual_1 = flat_list([])\n",
    "        actual_2 = flat_list([[], []])\n",
    "        self.assertEqual(actual_1, [])\n",
    "        self.assertEqual(actual_2, [])\n",
    "\n",
    "    def test_nested_list(self):\n",
    "        actual = flat_list([[1, 2, [3, 4], 5, [[6, [7]], 8], 9]])\n",
    "        expected = [1, 2, 3, 4, 5, 6, 7, 8, 9]\n",
    "        self.assertEqual(actual, expected)\n",
    "    \n",
    "    def test_argument_is_not_list(self):\n",
    "        with self.assertRaises(TypeError) as e:\n",
    "            flat_list(5)\n",
    "        self.assertEqual(e.exception.args[0], 'Argument must be a list')"
   ]
  },
  {
   "cell_type": "code",
   "execution_count": 8,
   "metadata": {},
   "outputs": [
    {
     "name": "stderr",
     "output_type": "stream",
     "text": [
      "test_argument_is_not_list (__main__.TestFlatList) ... ok\n",
      "test_empty_list (__main__.TestFlatList) ... ok\n",
      "test_nested_list (__main__.TestFlatList) ... ok\n",
      "\n",
      "----------------------------------------------------------------------\n",
      "Ran 3 tests in 0.007s\n",
      "\n",
      "OK\n"
     ]
    },
    {
     "data": {
      "text/plain": [
       "<unittest.runner.TextTestResult run=3 errors=0 failures=0>"
      ]
     },
     "execution_count": 8,
     "metadata": {},
     "output_type": "execute_result"
    }
   ],
   "source": [
    "suite = unittest.TestLoader().loadTestsFromTestCase(TestFlatList)\n",
    "unittest.TextTestRunner(verbosity=3).run(suite)"
   ]
  }
 ],
 "metadata": {
  "kernelspec": {
   "display_name": "Python 3",
   "language": "python",
   "name": "python3"
  },
  "language_info": {
   "codemirror_mode": {
    "name": "ipython",
    "version": 3
   },
   "file_extension": ".py",
   "mimetype": "text/x-python",
   "name": "python",
   "nbconvert_exporter": "python",
   "pygments_lexer": "ipython3",
   "version": "3.7.4"
  }
 },
 "nbformat": 4,
 "nbformat_minor": 2
}
